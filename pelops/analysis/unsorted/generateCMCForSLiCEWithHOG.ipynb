{
 "cells": [
  {
   "cell_type": "code",
   "execution_count": null,
   "metadata": {},
   "outputs": [],
   "source": [
    "%matplotlib inline\n",
    "\n",
    "import pelops.datasets.slice as slice\n",
    "import pelops.features.hog as hog\n",
    "import pelops.datasets.featuredataset as feature_dataset\n",
    "import pelops.experiment_api.experiment as exp\n",
    "import pelops.analysis.analysis as analysis\n",
    "import matplotlib.pyplot as plt"
   ]
  },
  {
   "cell_type": "code",
   "execution_count": null,
   "metadata": {},
   "outputs": [],
   "source": [
    "# Load SLiCE chips and generate HOG features\n",
    "\n",
    "DATA_DIR = '/sk/data/STR-multiCamChips-20170322-1900'\n",
    "HDF_FILE = '/sk/data/slice_hog_test2.hdf5'\n",
    "\n",
    "data_set = slice.SliceDataset(DATA_DIR, debug=True)\n",
    "hog_features = hog.HOGFeatureProducer(data_set)\n",
    "feature_dataset.FeatureDataset.save(HDF_FILE, *hog_features.return_features())"
   ]
  },
  {
   "cell_type": "code",
   "execution_count": null,
   "metadata": {},
   "outputs": [],
   "source": [
    "# Run various experiments to generate CMC\n",
    "\n",
    "ITEMS_PER_CAMERA = 10\n",
    "Y_RANDOM = 1024\n",
    "CAMERAS = 2\n",
    "DROPPED = 0\n",
    "CMC_CNT = 500\n",
    "EXPERIMENTS = 500\n",
    "\n",
    "slice_hog_features = feature_dataset.FeatureDataset(HDF_FILE)\n",
    "experiment_gen = exp.ExperimentGenerator(slice_hog_features, CAMERAS, ITEMS_PER_CAMERA, DROPPED, Y_RANDOM)\n",
    "experiment_hldr = analysis.repeat_pre_cmc(slice_hog_features, experiment_gen, NUMCMC=CMC_CNT, EXPPERCMC=EXPERIMENTS)\n",
    "stats, gdata = analysis.make_cmc_stats(experiment_hldr, ITEMS_PER_CAMERA)"
   ]
  },
  {
   "cell_type": "code",
   "execution_count": null,
   "metadata": {},
   "outputs": [],
   "source": [
    "# Plot experiment results\n",
    "\n",
    "figure = plt.figure()\n",
    "ax = plt.subplot(111)\n",
    "ax.plot(gdata.transpose())\n",
    "plt.title('{} CMC curves with {} experiments per curve'.format(CMC_CNT, EXPERIMENTS))\n",
    "ax.legend(('-stddev','avg','+stddev'), bbox_to_anchor=(1, -0.05), fancybox=True, shadow=True, ncol=5)\n",
    "plt.show()"
   ]
  }
 ],
 "metadata": {
  "kernelspec": {
   "display_name": "Python 3",
   "language": "python",
   "name": "python3"
  },
  "language_info": {
   "codemirror_mode": {
    "name": "ipython",
    "version": 3.0
   },
   "file_extension": ".py",
   "mimetype": "text/x-python",
   "name": "python",
   "nbconvert_exporter": "python",
   "pygments_lexer": "ipython3",
   "version": "3.5.0"
  }
 },
 "nbformat": 4,
 "nbformat_minor": 0
}